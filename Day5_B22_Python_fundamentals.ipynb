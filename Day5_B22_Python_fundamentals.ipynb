{
 "cells": [
  {
   "cell_type": "code",
   "execution_count": 1,
   "metadata": {},
   "outputs": [],
   "source": [
    "# for loop in python\n"
   ]
  },
  {
   "cell_type": "code",
   "execution_count": 2,
   "metadata": {},
   "outputs": [],
   "source": [
    "bank_customer = ['asha','harish','syam','jeo']"
   ]
  },
  {
   "cell_type": "code",
   "execution_count": 3,
   "metadata": {},
   "outputs": [],
   "source": [
    "# Req. Greeting to the customers by the Bank\n",
    "# Axis bank whishes you a Happy New Year, Customer"
   ]
  },
  {
   "cell_type": "code",
   "execution_count": 4,
   "metadata": {},
   "outputs": [
    {
     "name": "stdout",
     "output_type": "stream",
     "text": [
      "Axis bank whishes you a Happy New Year,asha\n"
     ]
    }
   ],
   "source": [
    "print(f\"Axis bank whishes you a Happy New Year,{bank_customer[0]}\")"
   ]
  },
  {
   "cell_type": "code",
   "execution_count": 5,
   "metadata": {},
   "outputs": [
    {
     "name": "stdout",
     "output_type": "stream",
     "text": [
      "Axis bank whishes you a Happy New Year,Asha\n"
     ]
    }
   ],
   "source": [
    "print(f\"Axis bank whishes you a Happy New Year,{bank_customer[0].title()}\")"
   ]
  },
  {
   "cell_type": "code",
   "execution_count": 6,
   "metadata": {},
   "outputs": [],
   "source": [
    "# to Auomate the statements"
   ]
  },
  {
   "cell_type": "code",
   "execution_count": 7,
   "metadata": {},
   "outputs": [
    {
     "name": "stdout",
     "output_type": "stream",
     "text": [
      "Axis bank whishes you a Happy New Year,asha\n",
      "Axis bank whishes you a Happy New Year,harish\n",
      "Axis bank whishes you a Happy New Year,syam\n",
      "Axis bank whishes you a Happy New Year,jeo\n"
     ]
    }
   ],
   "source": [
    "for cust in bank_customer:\n",
    "    print(f\"Axis bank whishes you a Happy New Year,{cust}\")"
   ]
  },
  {
   "cell_type": "code",
   "execution_count": 8,
   "metadata": {},
   "outputs": [
    {
     "name": "stdout",
     "output_type": "stream",
     "text": [
      "Axis bank whishes you a Happy New Year,Asha\n",
      "Axis bank whishes you a Happy New Year,Harish\n",
      "Axis bank whishes you a Happy New Year,Syam\n",
      "Axis bank whishes you a Happy New Year,Jeo\n"
     ]
    }
   ],
   "source": [
    "for cust in bank_customer:\n",
    "    print(f\"Axis bank whishes you a Happy New Year,{cust.title()}\")"
   ]
  },
  {
   "cell_type": "code",
   "execution_count": 9,
   "metadata": {},
   "outputs": [
    {
     "name": "stdout",
     "output_type": "stream",
     "text": [
      "Axis bank whishes you a Happy New Year,\tasha\n",
      "Axis bank whishes you a Happy New Year,\tharish\n",
      "Axis bank whishes you a Happy New Year,\tsyam\n",
      "Axis bank whishes you a Happy New Year,\tjeo\n"
     ]
    }
   ],
   "source": [
    "for cust in bank_customer:\n",
    "    print(f\"Axis bank whishes you a Happy New Year,\\t{cust}\")"
   ]
  },
  {
   "cell_type": "code",
   "execution_count": 10,
   "metadata": {},
   "outputs": [
    {
     "name": "stdout",
     "output_type": "stream",
     "text": [
      "Axis bank whishes you a Happy New Year,Asha\n",
      "Axis bank whishes you a Happy New Year,Harish\n",
      "Axis bank whishes you a Happy New Year,Syam\n",
      "Axis bank whishes you a Happy New Year,Jeo\n"
     ]
    }
   ],
   "source": [
    "for cust in bank_customer:\n",
    "    print(f\"Axis bank whishes you a Happy New Year,{cust.title()}\")"
   ]
  },
  {
   "cell_type": "code",
   "execution_count": 11,
   "metadata": {},
   "outputs": [
    {
     "name": "stdout",
     "output_type": "stream",
     "text": [
      "Axis bank whishes you a Happy New Year,\tAsha\n",
      "Axis bank whishes you a Happy New Year,\tHarish\n",
      "Axis bank whishes you a Happy New Year,\tSyam\n",
      "Axis bank whishes you a Happy New Year,\tJeo\n"
     ]
    }
   ],
   "source": [
    "for cust in bank_customer:\n",
    "    print(f\"Axis bank whishes you a Happy New Year,\\t{cust.title()}\")"
   ]
  },
  {
   "cell_type": "code",
   "execution_count": 12,
   "metadata": {},
   "outputs": [],
   "source": [
    "# another example"
   ]
  },
  {
   "cell_type": "code",
   "execution_count": 13,
   "metadata": {},
   "outputs": [],
   "source": [
    "my_stu = ['rama','suresh','sandeep','santosh','sunil']"
   ]
  },
  {
   "cell_type": "code",
   "execution_count": 14,
   "metadata": {},
   "outputs": [
    {
     "name": "stdout",
     "output_type": "stream",
     "text": [
      "['rama', 'suresh', 'sandeep', 'santosh', 'sunil']\n"
     ]
    }
   ],
   "source": [
    "print(my_stu)"
   ]
  },
  {
   "cell_type": "code",
   "execution_count": 15,
   "metadata": {},
   "outputs": [
    {
     "name": "stdout",
     "output_type": "stream",
     "text": [
      "rama\n",
      "suresh\n",
      "sandeep\n",
      "santosh\n",
      "sunil\n"
     ]
    }
   ],
   "source": [
    "for s in my_stu:\n",
    "    print(s)"
   ]
  },
  {
   "cell_type": "code",
   "execution_count": 16,
   "metadata": {},
   "outputs": [
    {
     "ename": "NameError",
     "evalue": "name 'f' is not defined",
     "output_type": "error",
     "traceback": [
      "\u001b[1;31m---------------------------------------------------------------------------\u001b[0m",
      "\u001b[1;31mNameError\u001b[0m                                 Traceback (most recent call last)",
      "\u001b[1;32m<ipython-input-16-691675961cc6>\u001b[0m in \u001b[0;36m<module>\u001b[1;34m\u001b[0m\n\u001b[0;32m      1\u001b[0m \u001b[1;32mfor\u001b[0m \u001b[0ms\u001b[0m \u001b[1;32min\u001b[0m \u001b[0mmy_stu\u001b[0m\u001b[1;33m:\u001b[0m\u001b[1;33m\u001b[0m\u001b[1;33m\u001b[0m\u001b[0m\n\u001b[1;32m----> 2\u001b[1;33m     \u001b[0mprint\u001b[0m\u001b[1;33m(\u001b[0m\u001b[0mf\u001b[0m\u001b[1;33m,\u001b[0m\u001b[1;34m\"Keep up good work,{s.title()}\"\u001b[0m\u001b[1;33m)\u001b[0m\u001b[1;33m\u001b[0m\u001b[1;33m\u001b[0m\u001b[0m\n\u001b[0m",
      "\u001b[1;31mNameError\u001b[0m: name 'f' is not defined"
     ]
    }
   ],
   "source": [
    "for s in my_stu:\n",
    "    print(f,\"Keep up good work,{s.title()}\")"
   ]
  },
  {
   "cell_type": "code",
   "execution_count": 17,
   "metadata": {},
   "outputs": [
    {
     "name": "stdout",
     "output_type": "stream",
     "text": [
      "Keep up good work,Rama\n",
      "Keep up good work,Suresh\n",
      "Keep up good work,Sandeep\n",
      "Keep up good work,Santosh\n",
      "Keep up good work,Sunil\n"
     ]
    }
   ],
   "source": [
    "for s in my_stu:\n",
    "    print(f\"Keep up good work,{s.title()}\")"
   ]
  },
  {
   "cell_type": "code",
   "execution_count": 18,
   "metadata": {},
   "outputs": [
    {
     "name": "stdout",
     "output_type": "stream",
     "text": [
      "Keep up good work,Rama\n",
      "Keep up good work,Suresh\n",
      "Keep up good work,Sandeep\n",
      "Keep up good work,Santosh\n",
      "Keep up good work,Sunil\n",
      "thank you all for attending the class regularly\n"
     ]
    }
   ],
   "source": [
    "for s in my_stu:\n",
    "    print(f\"Keep up good work,{s.title()}\")\n",
    "print(\"thank you all for attending the class regularly\")"
   ]
  },
  {
   "cell_type": "code",
   "execution_count": 19,
   "metadata": {},
   "outputs": [
    {
     "name": "stdout",
     "output_type": "stream",
     "text": [
      "Keep up good work,Rama\n",
      "\n",
      "Keep up good work,Suresh\n",
      "\n",
      "Keep up good work,Sandeep\n",
      "\n",
      "Keep up good work,Santosh\n",
      "\n",
      "Keep up good work,Sunil\n",
      "\n",
      "thank you all for attending the class regularly\n"
     ]
    }
   ],
   "source": [
    "for s in my_stu:\n",
    "    print(f\"Keep up good work,{s.title()}\\n\")\n",
    "print(\"thank you all for attending the class regularly\")"
   ]
  },
  {
   "cell_type": "code",
   "execution_count": 20,
   "metadata": {},
   "outputs": [
    {
     "name": "stdout",
     "output_type": "stream",
     "text": [
      "Keep up good work,Rama\n",
      "Keep up good work,Suresh\n",
      "Keep up good work,Sandeep\n",
      "Keep up good work,Santosh\n",
      "Keep up good work,Sunil\n",
      "\n",
      "thank you all for attending the class regularly\n"
     ]
    }
   ],
   "source": [
    "for s in my_stu:\n",
    "    print(f\"Keep up good work,{s.title()}\")\n",
    "print(\"\\nthank you all for attending the class regularly\")"
   ]
  },
  {
   "cell_type": "code",
   "execution_count": null,
   "metadata": {},
   "outputs": [],
   "source": []
  }
 ],
 "metadata": {
  "kernelspec": {
   "display_name": "Python 3",
   "language": "python",
   "name": "python3"
  },
  "language_info": {
   "codemirror_mode": {
    "name": "ipython",
    "version": 3
   },
   "file_extension": ".py",
   "mimetype": "text/x-python",
   "name": "python",
   "nbconvert_exporter": "python",
   "pygments_lexer": "ipython3",
   "version": "3.7.6"
  }
 },
 "nbformat": 4,
 "nbformat_minor": 4
}
